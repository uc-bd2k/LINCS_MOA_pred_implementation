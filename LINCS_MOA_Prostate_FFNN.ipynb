{
 "cells": [
  {
   "cell_type": "markdown",
   "metadata": {},
   "source": [
    "## LINCS MOA classifcation for prostate tissue using Feed Forward Neural Network"
   ]
  },
  {
   "cell_type": "code",
   "execution_count": 1,
   "metadata": {},
   "outputs": [],
   "source": [
    "import pandas as pd\n",
    "import numpy as np\n",
    "from sklearn.preprocessing  import StandardScaler\n",
    "from sklearn.model_selection import train_test_split\n",
    "from sklearn.neural_network import MLPClassifier\n",
    "from sklearn.metrics import confusion_matrix,classification_report,accuracy_score"
   ]
  },
  {
   "cell_type": "code",
   "execution_count": 2,
   "metadata": {},
   "outputs": [],
   "source": [
    "file_prostate=pd.read_hdf(\"/Users/Rashid/Desktop/Rashid/Career/PhD/Research/projects/GCN/data/GSE92742_fully_restricted_prostate.hdf\")"
   ]
  },
  {
   "cell_type": "code",
   "execution_count": 3,
   "metadata": {},
   "outputs": [],
   "source": [
    "df_prostate=file_prostate.reset_index(level=[0,1,2,3,4,5,6]) #change from multi index to single index"
   ]
  },
  {
   "cell_type": "code",
   "execution_count": 4,
   "metadata": {},
   "outputs": [],
   "source": [
    "prostate_y=df_prostate[\"moa\"].values #change moa column to numpy array\n",
    "df_prostate= df_prostate.drop(columns=[\"pert_id\",\"pert_name\",\"cell_id\",\"primary_site\",\"subtype\",\"moa\",\"Fold\"])\n",
    "prostate_X=df_prostate.values #get the matrix of feature values for 978 genes\n"
   ]
  },
  {
   "cell_type": "code",
   "execution_count": 5,
   "metadata": {},
   "outputs": [],
   "source": [
    "labels,uniques=pd.factorize(prostate_y) #labels are the encodings\n",
    "prostate_y=labels"
   ]
  },
  {
   "cell_type": "code",
   "execution_count": 6,
   "metadata": {},
   "outputs": [],
   "source": [
    "sc=StandardScaler()\n",
    "prostate_X=sc.fit_transform(prostate_X) #normalize feature data"
   ]
  },
  {
   "cell_type": "code",
   "execution_count": 7,
   "metadata": {},
   "outputs": [],
   "source": [
    "#SPLIT DATA\n",
    "X_train,X_test,y_train,y_test=train_test_split(prostate_X,prostate_y,test_size=0.2,random_state=42)#split into train and test"
   ]
  },
  {
   "cell_type": "code",
   "execution_count": 8,
   "metadata": {},
   "outputs": [],
   "source": [
    "mlpc=MLPClassifier(hidden_layer_sizes=(997),max_iter=350) #max_iter goes through the layers 350 times(forward pass and backpropagation) to adjust weights\n",
    "mlpc.fit(X_train,y_train)\n",
    "pred_mlpc=mlpc.predict(X_test) #around 5 mins tops"
   ]
  },
  {
   "cell_type": "code",
   "execution_count": 9,
   "metadata": {},
   "outputs": [
    {
     "name": "stdout",
     "output_type": "stream",
     "text": [
      "[[  41    1   37   11   16    7   11  113    2]\n",
      " [   7  190    1    2    2    5    3   12    0]\n",
      " [  29    4  192   36   20   12   24  107    4]\n",
      " [  20    3   34   29   15    4    9  104    1]\n",
      " [  22    1   14   14   29    9   11  104    0]\n",
      " [  10    4   16    3    9  787    9   88    1]\n",
      " [   8    1    5    5    5   14  683  114   67]\n",
      " [  52   11   54   35   47   37   85 1413   12]\n",
      " [   1    0    2    0    1    2  141   12   67]]\n",
      "              precision    recall  f1-score   support\n",
      "\n",
      "           0       0.22      0.17      0.19       239\n",
      "           1       0.88      0.86      0.87       222\n",
      "           2       0.54      0.45      0.49       428\n",
      "           3       0.21      0.13      0.16       219\n",
      "           4       0.20      0.14      0.17       204\n",
      "           5       0.90      0.85      0.87       927\n",
      "           6       0.70      0.76      0.73       902\n",
      "           7       0.68      0.81      0.74      1746\n",
      "           8       0.44      0.30      0.35       226\n",
      "\n",
      "    accuracy                           0.67      5113\n",
      "   macro avg       0.53      0.50      0.51      5113\n",
      "weighted avg       0.65      0.67      0.66      5113\n",
      "\n",
      "0.6710346176413065\n"
     ]
    }
   ],
   "source": [
    "#METRICS\n",
    "print(confusion_matrix(y_test,pred_mlpc))\n",
    "print(classification_report(y_test,pred_mlpc))\n",
    "acc_mlpc=accuracy_score(y_test,pred_mlpc) #result for svm\n",
    "print(acc_mlpc) #print precision score \n",
    "#results matches in the paper where accuracy is 68.3 ± 0.60, macro F1 is 50.4 ± 0.71. Took 4-5 minutes on macbook pro 2.7 GHz inter core i5 processor, 16 GB 1867 MHz DDR3 Memomry, Intel Iris Graphics 6100 1536 MB Graphics"
   ]
  },
  {
   "cell_type": "code",
   "execution_count": null,
   "metadata": {},
   "outputs": [],
   "source": []
  }
 ],
 "metadata": {
  "kernelspec": {
   "display_name": "Python [conda env:scikitLearnTutorial]",
   "language": "python",
   "name": "conda-env-scikitLearnTutorial-py"
  },
  "language_info": {
   "codemirror_mode": {
    "name": "ipython",
    "version": 3
   },
   "file_extension": ".py",
   "mimetype": "text/x-python",
   "name": "python",
   "nbconvert_exporter": "python",
   "pygments_lexer": "ipython3",
   "version": "3.7.3"
  }
 },
 "nbformat": 4,
 "nbformat_minor": 2
}
