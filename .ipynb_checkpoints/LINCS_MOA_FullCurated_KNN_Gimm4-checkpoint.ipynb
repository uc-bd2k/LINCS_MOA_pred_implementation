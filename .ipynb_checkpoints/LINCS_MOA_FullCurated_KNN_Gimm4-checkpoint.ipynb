{
 "cells": [
  {
   "cell_type": "markdown",
   "metadata": {},
   "source": [
    "## LINCS MOA Predicition for LINCS curated using K nearest neighbors"
   ]
  },
  {
   "cell_type": "code",
   "execution_count": 1,
   "metadata": {},
   "outputs": [],
   "source": [
    "import pandas as pd\n",
    "import numpy as np\n",
    "from sklearn.preprocessing  import StandardScaler\n",
    "from sklearn.model_selection import train_test_split\n",
    "from sklearn.neighbors import KNeighborsClassifier\n",
    "from sklearn.metrics import confusion_matrix,classification_report,accuracy_score"
   ]
  },
  {
   "cell_type": "code",
   "execution_count": 2,
   "metadata": {},
   "outputs": [],
   "source": [
    "file_prostate=pd.read_hdf(\"/opt/raid10/genomics/rashid/GCN/data/GSE92742_fully_restricted.hdf\")"
   ]
  },
  {
   "cell_type": "code",
   "execution_count": 3,
   "metadata": {},
   "outputs": [],
   "source": [
    "df_prostate=file_prostate.reset_index(level=[0,1,2,3,4,5,6]) #change from multi index to single index"
   ]
  },
  {
   "cell_type": "code",
   "execution_count": 4,
   "metadata": {},
   "outputs": [],
   "source": [
    "prostate_y=df_prostate[\"moa\"].values #change moa column to numpy array\n",
    "df_prostate= df_prostate.drop(columns=[\"pert_id\",\"pert_name\",\"cell_id\",\"primary_site\",\"subtype\",\"moa\",\"Fold\"])\n",
    "prostate_X=df_prostate.values #get the matrix of feature values for 978 genes\n"
   ]
  },
  {
   "cell_type": "code",
   "execution_count": 5,
   "metadata": {},
   "outputs": [],
   "source": [
    "labels,uniques=pd.factorize(prostate_y) #labels are the encodings\n",
    "prostate_y=labels"
   ]
  },
  {
   "cell_type": "code",
   "execution_count": 6,
   "metadata": {},
   "outputs": [],
   "source": [
    "sc=StandardScaler()\n",
    "prostate_X=sc.fit_transform(prostate_X) #normalize feature data"
   ]
  },
  {
   "cell_type": "code",
   "execution_count": 7,
   "metadata": {},
   "outputs": [],
   "source": [
    "#SPLIT DATA\n",
    "X_train,X_test,y_train,y_test=train_test_split(prostate_X,prostate_y,test_size=0.2,random_state=42)#split into train and test"
   ]
  },
  {
   "cell_type": "code",
   "execution_count": 10,
   "metadata": {},
   "outputs": [],
   "source": [
    "knn = KNeighborsClassifier(n_neighbors=13) #with 5 it has 0.41 accuracy,\n",
    "\n",
    "knn.fit(X_train,y_train)\n",
    "pred_knn=knn.predict(X_test) #3-4 mins"
   ]
  },
  {
   "cell_type": "code",
   "execution_count": 11,
   "metadata": {},
   "outputs": [
    {
     "name": "stdout",
     "output_type": "stream",
     "text": [
      "[[  7   0 110   2   1  22  19  77   1]\n",
      " [  3 130  16   1   0  16   8  48   0]\n",
      " [  8   0 225   1   3  35  24 130   2]\n",
      " [  2   0  84   0   0  26  16  91   0]\n",
      " [  4   1  75   0   3  20  19  82   0]\n",
      " [  8   1 136   0   1 595  28 158   0]\n",
      " [  3   0 219   0   0  65 460 152   3]\n",
      " [  9   0 606   0   3 229 179 717   3]\n",
      " [  2   0  42   0   0  11 129  31  11]]\n",
      "              precision    recall  f1-score   support\n",
      "\n",
      "           0       0.15      0.03      0.05       239\n",
      "           1       0.98      0.59      0.73       222\n",
      "           2       0.15      0.53      0.23       428\n",
      "           3       0.00      0.00      0.00       219\n",
      "           4       0.27      0.01      0.03       204\n",
      "           5       0.58      0.64      0.61       927\n",
      "           6       0.52      0.51      0.52       902\n",
      "           7       0.48      0.41      0.44      1746\n",
      "           8       0.55      0.05      0.09       226\n",
      "\n",
      "    accuracy                           0.42      5113\n",
      "   macro avg       0.41      0.31      0.30      5113\n",
      "weighted avg       0.46      0.42      0.41      5113\n",
      "\n",
      "0.4201056131429689\n"
     ]
    }
   ],
   "source": [
    "#METRICS\n",
    "print(confusion_matrix(y_test,pred_knn))\n",
    "print(classification_report(y_test,pred_knn))\n",
    "acc_knn=accuracy_score(y_test,pred_knn) #result for svm\n",
    "print(acc_knn) #print precision score \n",
    "#results doesn't quite matches in the paper where accuracy is 66.5 ± 0.71, macro F1 is 46.2 +/- 0.89. Took 4-5 minutes on macbook pro 2.7 GHz inter core i5 processor, 16 GB 1867 MHz DDR3 Memomry, Intel Iris Graphics 6100 1536 MB Graphics"
   ]
  },
  {
   "cell_type": "code",
   "execution_count": null,
   "metadata": {},
   "outputs": [],
   "source": [
    "from sklearn.externals import joblib\n",
    "joblib.dump(knn,'KNN_MOA_FullCurated_notTuned')"
   ]
  },
  {
   "cell_type": "code",
   "execution_count": 17,
   "metadata": {},
   "outputs": [],
   "source": [
    "knn_benchmark=KNeighborsClassifier(metric='canberra',p=1, weights='distance', n_neighbors= 12)\n",
    "knn_benchmark.fit(X_train,y_train)\n",
    "pred_knn_benchmark=knn_benchmark.predict(X_test) #4-5 mins"
   ]
  },
  {
   "cell_type": "code",
   "execution_count": 18,
   "metadata": {},
   "outputs": [
    {
     "name": "stdout",
     "output_type": "stream",
     "text": [
      "[[  14    1   19    8    8    9   11  165    4]\n",
      " [   0  160    5    0    2    9    6   40    0]\n",
      " [  10    1  133   15   12   21   10  221    5]\n",
      " [   7    1   29    4    8    8   10  148    4]\n",
      " [   6    1   16    7   16    5    9  141    3]\n",
      " [   2    2   18    1    1  784    6  111    2]\n",
      " [   0    0   17    5    1   16  680  154   29]\n",
      " [  11    2   68    9   11   38   61 1528   18]\n",
      " [   2    0    2    0    0    1  139   20   62]]\n",
      "              precision    recall  f1-score   support\n",
      "\n",
      "           0       0.27      0.06      0.10       239\n",
      "           1       0.95      0.72      0.82       222\n",
      "           2       0.43      0.31      0.36       428\n",
      "           3       0.08      0.02      0.03       219\n",
      "           4       0.27      0.08      0.12       204\n",
      "           5       0.88      0.85      0.86       927\n",
      "           6       0.73      0.75      0.74       902\n",
      "           7       0.60      0.88      0.72      1746\n",
      "           8       0.49      0.27      0.35       226\n",
      "\n",
      "    accuracy                           0.66      5113\n",
      "   macro avg       0.52      0.44      0.46      5113\n",
      "weighted avg       0.62      0.66      0.62      5113\n",
      "\n",
      "0.6612556229219636\n"
     ]
    }
   ],
   "source": [
    "#METRICS\n",
    "print(confusion_matrix(y_test,pred_knn_benchmark))\n",
    "print(classification_report(y_test,pred_knn_benchmark))\n",
    "acc_knn_benchmark=accuracy_score(y_test,pred_knn_benchmark) #result for svm\n",
    "print(acc_knn_benchmark) #print precision score \n",
    "#results match MIT benchmark experiment  after using tuned hyperparameters from the experiment"
   ]
  },
  {
   "cell_type": "code",
   "execution_count": null,
   "metadata": {},
   "outputs": [],
   "source": [
    "\n",
    "joblib.dump(knn_benchmark,'KNN_MOA_FullCurated_Tuned')"
   ]
  }
 ],
 "metadata": {
  "kernelspec": {
   "display_name": "Python 3",
   "language": "python",
   "name": "python3"
  },
  "language_info": {
   "codemirror_mode": {
    "name": "ipython",
    "version": 3
   },
   "file_extension": ".py",
   "mimetype": "text/x-python",
   "name": "python",
   "nbconvert_exporter": "python",
   "pygments_lexer": "ipython3",
   "version": "3.7.3"
  }
 },
 "nbformat": 4,
 "nbformat_minor": 2
}
