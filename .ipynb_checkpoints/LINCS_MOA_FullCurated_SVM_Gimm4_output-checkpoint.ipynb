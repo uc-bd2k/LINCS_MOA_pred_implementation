{
 "cells": [
  {
   "cell_type": "markdown",
   "metadata": {},
   "source": [
    "## LINCS MOA Classifcation on LINCS curated using support vector machine"
   ]
  },
  {
   "cell_type": "code",
   "execution_count": 1,
   "metadata": {},
   "outputs": [],
   "source": [
    "import pandas as pd\n",
    "import numpy as np\n",
    "from sklearn.preprocessing  import StandardScaler\n",
    "from sklearn.model_selection import train_test_split\n",
    "#from sklearn.svm import SVC\n",
    "from sklearn import svm\n",
    "from sklearn.metrics import confusion_matrix,classification_report,accuracy_score"
   ]
  },
  {
   "cell_type": "code",
   "execution_count": 2,
   "metadata": {},
   "outputs": [],
   "source": [
    "file_prostate=pd.read_hdf(\"/opt/raid10/genomics/rashid/GCN/data/GSE92742_fully_restricted.hdf\")"
   ]
  },
  {
   "cell_type": "code",
   "execution_count": 3,
   "metadata": {},
   "outputs": [],
   "source": [
    "df_prostate=file_prostate.reset_index(level=[0,1,2,3,4,5,6]) #change from multi index to single index"
   ]
  },
  {
   "cell_type": "code",
   "execution_count": 4,
   "metadata": {},
   "outputs": [],
   "source": [
    "prostate_y=df_prostate[\"moa\"].values #change moa column to numpy array\n",
    "df_prostate= df_prostate.drop(columns=[\"pert_id\",\"pert_name\",\"cell_id\",\"primary_site\",\"subtype\",\"moa\",\"Fold\"])\n",
    "prostate_X=df_prostate.values #get the matrix of feature values for 978 genes\n"
   ]
  },
  {
   "cell_type": "code",
   "execution_count": 5,
   "metadata": {},
   "outputs": [],
   "source": [
    "labels,uniques=pd.factorize(prostate_y) #labels are the encodings\n",
    "prostate_y=labels"
   ]
  },
  {
   "cell_type": "code",
   "execution_count": 6,
   "metadata": {},
   "outputs": [],
   "source": [
    "sc=StandardScaler()\n",
    "prostate_X=sc.fit_transform(prostate_X) #normalize feature data"
   ]
  },
  {
   "cell_type": "code",
   "execution_count": 7,
   "metadata": {},
   "outputs": [],
   "source": [
    "#SPLIT DATA\n",
    "X_train,X_test,y_train,y_test=train_test_split(prostate_X,prostate_y,test_size=0.2,random_state=42)#split into train and test"
   ]
  },
  {
   "cell_type": "code",
   "execution_count": 8,
   "metadata": {},
   "outputs": [
    {
     "name": "stderr",
     "output_type": "stream",
     "text": [
      "/home/rashid/.local/lib/python3.5/site-packages/sklearn/svm/base.py:196: FutureWarning: The default value of gamma will change from 'auto' to 'scale' in version 0.22 to account better for unscaled features. Set gamma explicitly to 'auto' or 'scale' to avoid this warning.\n",
      "  \"avoid this warning.\", FutureWarning)\n"
     ]
    },
    {
     "data": {
      "text/plain": [
       "SVC(C=1.0, cache_size=200, class_weight=None, coef0=0.0,\n",
       "  decision_function_shape='ovr', degree=3, gamma='auto_deprecated',\n",
       "  kernel='rbf', max_iter=-1, probability=False, random_state=None,\n",
       "  shrinking=True, tol=0.001, verbose=False)"
      ]
     },
     "execution_count": 8,
     "metadata": {},
     "output_type": "execute_result"
    }
   ],
   "source": [
    "clm=svm.SVC()\n",
    "clm.fit(X_train,y_train) #fit SVM with training data. took around 10 mins on mac\n"
   ]
  },
  {
   "cell_type": "code",
   "execution_count": 9,
   "metadata": {},
   "outputs": [
    {
     "name": "stdout",
     "output_type": "stream",
     "text": [
      "[[   0    4    0 ...   19  512    0]\n",
      " [   0    8    1 ...   23  587    0]\n",
      " [   0    2   16 ...   30  548    0]\n",
      " ...\n",
      " [   0    0    0 ... 2699  729    3]\n",
      " [   0    0    0 ...  170 4984    0]\n",
      " [   0    0    0 ...  685   84   62]]\n",
      "              precision    recall  f1-score   support\n",
      "\n",
      "           0       0.00      0.00      0.00       583\n",
      "           1       0.16      0.01      0.02       710\n",
      "           2       0.67      0.03      0.05       634\n",
      "           3       0.68      0.28      0.40       453\n",
      "           4       0.00      0.00      0.00       205\n",
      "           5       0.00      0.00      0.00       588\n",
      "           6       1.00      0.09      0.17       212\n",
      "           7       0.43      0.01      0.03       441\n",
      "           8       0.93      0.71      0.81       859\n",
      "           9       1.00      0.00      0.00       433\n",
      "          10       0.00      0.00      0.00       337\n",
      "          11       0.00      0.00      0.00       290\n",
      "          12       0.50      0.00      0.01       487\n",
      "          13       0.97      0.55      0.71       253\n",
      "          14       0.36      0.35      0.36      1222\n",
      "          15       0.59      0.33      0.43       380\n",
      "          16       1.00      0.00      0.01       220\n",
      "          17       0.33      0.01      0.01       693\n",
      "          18       0.31      0.02      0.04       825\n",
      "          19       0.00      0.00      0.00       238\n",
      "          20       0.51      0.30      0.38       547\n",
      "          21       0.00      0.00      0.00       566\n",
      "          22       0.93      0.56      0.70       544\n",
      "          23       0.74      0.59      0.66       262\n",
      "          24       0.89      0.67      0.77       364\n",
      "          25       0.00      0.00      0.00       227\n",
      "          26       0.79      0.73      0.76      2909\n",
      "          27       0.85      0.32      0.47       321\n",
      "          28       0.00      0.00      0.00       210\n",
      "          29       0.44      0.27      0.34       673\n",
      "          30       0.86      0.77      0.81       456\n",
      "          31       0.33      0.00      0.01       232\n",
      "          32       0.95      0.35      0.52       170\n",
      "          33       0.00      0.00      0.00       575\n",
      "          34       1.00      0.01      0.01       187\n",
      "          35       0.79      0.08      0.14       246\n",
      "          36       0.67      0.07      0.12       458\n",
      "          37       0.63      0.19      0.29       378\n",
      "          38       0.71      0.04      0.07       342\n",
      "          39       0.67      0.40      0.50       212\n",
      "          40       0.66      0.33      0.44       255\n",
      "          41       0.76      0.18      0.29       256\n",
      "          42       0.84      0.45      0.58       364\n",
      "          43       0.86      0.18      0.30       203\n",
      "          44       0.72      0.23      0.35       478\n",
      "          45       0.81      0.35      0.49       267\n",
      "          46       0.63      0.78      0.69      3479\n",
      "          47       0.27      0.96      0.42      5212\n",
      "          48       0.95      0.07      0.14       837\n",
      "\n",
      "   micro avg       0.44      0.44      0.44     31293\n",
      "   macro avg       0.56      0.23      0.27     31293\n",
      "weighted avg       0.52      0.44      0.37     31293\n",
      "\n",
      "0.4378615025724603\n"
     ]
    },
    {
     "name": "stderr",
     "output_type": "stream",
     "text": [
      "/home/rashid/.local/lib/python3.5/site-packages/sklearn/metrics/classification.py:1143: UndefinedMetricWarning: Precision and F-score are ill-defined and being set to 0.0 in labels with no predicted samples.\n",
      "  'precision', 'predicted', average, warn_for)\n"
     ]
    }
   ],
   "source": [
    "pred_clm=clm.predict(X_test) #see how the test data is predicted\n",
    "#METRICS\n",
    "print(confusion_matrix(y_test,pred_clm))\n",
    "print(classification_report(y_test,pred_clm))\n",
    "acc_clm=accuracy_score(y_test,pred_clm) #result for svm\n",
    "print(acc_clm) #print precision score \n",
    "#results matches in the paper where accuracy is 66.61, macro F1 is 0.43. Took 4-5 minutes on macbook pro 2.7 GHz inter core i5 processor, 16 GB 1867 MHz DDR3 Memomry, Intel Iris Graphics 6100 1536 MB Graphics"
   ]
  },
  {
   "cell_type": "code",
   "execution_count": 10,
   "metadata": {},
   "outputs": [
    {
     "data": {
      "text/plain": [
       "['SVM_MOA_FullCurated_notTuned']"
      ]
     },
     "execution_count": 10,
     "metadata": {},
     "output_type": "execute_result"
    }
   ],
   "source": [
    "from sklearn.externals import joblib\n",
    "joblib.dump(clm,'SVM_MOA_FullCurated_notTuned')"
   ]
  }
 ],
 "metadata": {
  "kernelspec": {
   "display_name": "Python 3",
   "language": "python",
   "name": "python3"
  },
  "language_info": {
   "codemirror_mode": {
    "name": "ipython",
    "version": 3
   },
   "file_extension": ".py",
   "mimetype": "text/x-python",
   "name": "python",
   "nbconvert_exporter": "python",
   "pygments_lexer": "ipython3",
   "version": "3.7.3"
  }
 },
 "nbformat": 4,
 "nbformat_minor": 2
}
