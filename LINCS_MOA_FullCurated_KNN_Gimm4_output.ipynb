{
 "cells": [
  {
   "cell_type": "markdown",
   "metadata": {},
   "source": [
    "## LINCS MOA Predicition for LINCS curated using K nearest neighbors"
   ]
  },
  {
   "cell_type": "code",
   "execution_count": 1,
   "metadata": {},
   "outputs": [],
   "source": [
    "import pandas as pd\n",
    "import numpy as np\n",
    "from sklearn.preprocessing  import StandardScaler\n",
    "from sklearn.model_selection import train_test_split\n",
    "from sklearn.neighbors import KNeighborsClassifier\n",
    "from sklearn.metrics import confusion_matrix,classification_report,accuracy_score"
   ]
  },
  {
   "cell_type": "code",
   "execution_count": 2,
   "metadata": {},
   "outputs": [],
   "source": [
    "file_prostate=pd.read_hdf(\"/opt/raid10/genomics/rashid/GCN/data/GSE92742_fully_restricted.hdf\")"
   ]
  },
  {
   "cell_type": "code",
   "execution_count": 3,
   "metadata": {},
   "outputs": [],
   "source": [
    "df_prostate=file_prostate.reset_index(level=[0,1,2,3,4,5,6]) #change from multi index to single index"
   ]
  },
  {
   "cell_type": "code",
   "execution_count": 4,
   "metadata": {},
   "outputs": [],
   "source": [
    "prostate_y=df_prostate[\"moa\"].values #change moa column to numpy array\n",
    "df_prostate= df_prostate.drop(columns=[\"pert_id\",\"pert_name\",\"cell_id\",\"primary_site\",\"subtype\",\"moa\",\"Fold\"])\n",
    "prostate_X=df_prostate.values #get the matrix of feature values for 978 genes\n"
   ]
  },
  {
   "cell_type": "code",
   "execution_count": 5,
   "metadata": {},
   "outputs": [],
   "source": [
    "labels,uniques=pd.factorize(prostate_y) #labels are the encodings\n",
    "prostate_y=labels"
   ]
  },
  {
   "cell_type": "code",
   "execution_count": 6,
   "metadata": {},
   "outputs": [],
   "source": [
    "sc=StandardScaler()\n",
    "prostate_X=sc.fit_transform(prostate_X) #normalize feature data"
   ]
  },
  {
   "cell_type": "code",
   "execution_count": 7,
   "metadata": {},
   "outputs": [],
   "source": [
    "#SPLIT DATA\n",
    "X_train,X_test,y_train,y_test=train_test_split(prostate_X,prostate_y,test_size=0.2,random_state=42)#split into train and test"
   ]
  },
  {
   "cell_type": "code",
   "execution_count": 8,
   "metadata": {},
   "outputs": [],
   "source": [
    "knn = KNeighborsClassifier(n_neighbors=13) #with 5 it has 0.41 accuracy,\n",
    "\n",
    "knn.fit(X_train,y_train)\n",
    "pred_knn=knn.predict(X_test) #3-4 mins"
   ]
  },
  {
   "cell_type": "code",
   "execution_count": 9,
   "metadata": {},
   "outputs": [
    {
     "name": "stdout",
     "output_type": "stream",
     "text": [
      "[[  19   17    3 ...  101  173    7]\n",
      " [  20   20    5 ...  107  186    7]\n",
      " [  20   17    8 ...   98  203    2]\n",
      " ...\n",
      " [  29   12    5 ... 2303  353   57]\n",
      " [ 122   48   17 ...  921 1859   50]\n",
      " [   4    1    2 ...  546   52   67]]\n",
      "              precision    recall  f1-score   support\n",
      "\n",
      "           0       0.02      0.03      0.03       583\n",
      "           1       0.05      0.03      0.04       710\n",
      "           2       0.05      0.01      0.02       634\n",
      "           3       0.34      0.08      0.13       453\n",
      "           4       0.03      0.04      0.03       205\n",
      "           5       0.04      0.04      0.04       588\n",
      "           6       0.32      0.08      0.12       212\n",
      "           7       0.04      0.02      0.02       441\n",
      "           8       0.93      0.50      0.65       859\n",
      "           9       0.03      0.01      0.01       433\n",
      "          10       0.01      0.00      0.00       337\n",
      "          11       0.02      0.02      0.02       290\n",
      "          12       0.08      0.02      0.03       487\n",
      "          13       0.78      0.45      0.57       253\n",
      "          14       0.07      0.23      0.11      1222\n",
      "          15       0.65      0.08      0.15       380\n",
      "          16       0.10      0.00      0.01       220\n",
      "          17       0.06      0.02      0.03       693\n",
      "          18       0.10      0.03      0.04       825\n",
      "          19       0.00      0.00      0.00       238\n",
      "          20       0.04      0.05      0.04       547\n",
      "          21       0.05      0.02      0.03       566\n",
      "          22       0.85      0.35      0.49       544\n",
      "          23       0.66      0.25      0.36       262\n",
      "          24       0.85      0.51      0.64       364\n",
      "          25       0.00      0.00      0.00       227\n",
      "          26       0.37      0.60      0.46      2909\n",
      "          27       0.43      0.07      0.13       321\n",
      "          28       0.00      0.00      0.00       210\n",
      "          29       0.42      0.05      0.09       673\n",
      "          30       0.78      0.41      0.54       456\n",
      "          31       0.00      0.00      0.00       232\n",
      "          32       1.00      0.10      0.18       170\n",
      "          33       0.04      0.01      0.02       575\n",
      "          34       0.00      0.00      0.00       187\n",
      "          35       0.39      0.03      0.05       246\n",
      "          36       0.21      0.02      0.04       458\n",
      "          37       0.64      0.12      0.20       378\n",
      "          38       0.02      0.06      0.03       342\n",
      "          39       0.77      0.14      0.24       212\n",
      "          40       0.57      0.07      0.12       255\n",
      "          41       0.12      0.00      0.01       256\n",
      "          42       0.73      0.25      0.37       364\n",
      "          43       0.81      0.08      0.15       203\n",
      "          44       0.50      0.06      0.11       478\n",
      "          45       0.84      0.10      0.17       267\n",
      "          46       0.33      0.66      0.44      3479\n",
      "          47       0.25      0.36      0.29      5212\n",
      "          48       0.20      0.08      0.11       837\n",
      "\n",
      "   micro avg       0.26      0.26      0.26     31293\n",
      "   macro avg       0.32      0.13      0.15     31293\n",
      "weighted avg       0.29      0.26      0.23     31293\n",
      "\n",
      "0.2581088422330873\n"
     ]
    }
   ],
   "source": [
    "#METRICS\n",
    "print(confusion_matrix(y_test,pred_knn))\n",
    "print(classification_report(y_test,pred_knn))\n",
    "acc_knn=accuracy_score(y_test,pred_knn) #result for svm\n",
    "print(acc_knn) #print precision score \n",
    "#results doesn't quite matches in the paper where accuracy is 66.5 ± 0.71, macro F1 is 46.2 +/- 0.89. Took 4-5 minutes on macbook pro 2.7 GHz inter core i5 processor, 16 GB 1867 MHz DDR3 Memomry, Intel Iris Graphics 6100 1536 MB Graphics"
   ]
  },
  {
   "cell_type": "code",
   "execution_count": 10,
   "metadata": {},
   "outputs": [
    {
     "data": {
      "text/plain": [
       "['KNN_MOA_FullCurated_notTuned']"
      ]
     },
     "execution_count": 10,
     "metadata": {},
     "output_type": "execute_result"
    }
   ],
   "source": [
    "from sklearn.externals import joblib\n",
    "joblib.dump(knn,'KNN_MOA_FullCurated_notTuned')"
   ]
  },
  {
   "cell_type": "code",
   "execution_count": 11,
   "metadata": {},
   "outputs": [],
   "source": [
    "knn_benchmark=KNeighborsClassifier(metric='canberra',p=1, weights='distance', n_neighbors= 12)\n",
    "knn_benchmark.fit(X_train,y_train)\n",
    "pred_knn_benchmark=knn_benchmark.predict(X_test) #4-5 mins"
   ]
  },
  {
   "cell_type": "code",
   "execution_count": 12,
   "metadata": {},
   "outputs": [
    {
     "name": "stdout",
     "output_type": "stream",
     "text": [
      "[[  27   32   16 ...   56  233    5]\n",
      " [  22   50    9 ...   72  281    5]\n",
      " [  12   29   47 ...   76  242    8]\n",
      " ...\n",
      " [   7    2    8 ... 2918  300  124]\n",
      " [  33   43   22 ...  552 3804   70]\n",
      " [   0    0    0 ...  532   31  264]]\n",
      "              precision    recall  f1-score   support\n",
      "\n",
      "           0       0.08      0.05      0.06       583\n",
      "           1       0.09      0.07      0.08       710\n",
      "           2       0.12      0.07      0.09       634\n",
      "           3       0.37      0.20      0.26       453\n",
      "           4       0.11      0.02      0.04       205\n",
      "           5       0.07      0.04      0.05       588\n",
      "           6       0.53      0.14      0.22       212\n",
      "           7       0.08      0.03      0.04       441\n",
      "           8       0.88      0.65      0.75       859\n",
      "           9       0.08      0.03      0.05       433\n",
      "          10       0.04      0.01      0.02       337\n",
      "          11       0.03      0.02      0.02       290\n",
      "          12       0.07      0.04      0.05       487\n",
      "          13       0.82      0.56      0.66       253\n",
      "          14       0.24      0.25      0.24      1222\n",
      "          15       0.50      0.28      0.36       380\n",
      "          16       0.18      0.03      0.05       220\n",
      "          17       0.10      0.07      0.08       693\n",
      "          18       0.15      0.12      0.14       825\n",
      "          19       0.03      0.01      0.01       238\n",
      "          20       0.45      0.29      0.35       547\n",
      "          21       0.05      0.03      0.04       566\n",
      "          22       0.91      0.51      0.65       544\n",
      "          23       0.64      0.47      0.55       262\n",
      "          24       0.82      0.60      0.69       364\n",
      "          25       0.30      0.07      0.12       227\n",
      "          26       0.71      0.83      0.77      2909\n",
      "          27       0.61      0.28      0.38       321\n",
      "          28       0.11      0.03      0.05       210\n",
      "          29       0.48      0.25      0.33       673\n",
      "          30       0.80      0.77      0.78       456\n",
      "          31       0.14      0.06      0.08       232\n",
      "          32       0.72      0.38      0.49       170\n",
      "          33       0.09      0.05      0.06       575\n",
      "          34       0.15      0.04      0.06       187\n",
      "          35       0.40      0.10      0.16       246\n",
      "          36       0.31      0.20      0.24       458\n",
      "          37       0.56      0.35      0.43       378\n",
      "          38       0.48      0.18      0.26       342\n",
      "          39       0.65      0.39      0.49       212\n",
      "          40       0.57      0.30      0.40       255\n",
      "          41       0.27      0.09      0.14       256\n",
      "          42       0.70      0.51      0.59       364\n",
      "          43       0.63      0.28      0.39       203\n",
      "          44       0.60      0.30      0.40       478\n",
      "          45       0.76      0.36      0.49       267\n",
      "          46       0.50      0.84      0.63      3479\n",
      "          47       0.37      0.73      0.49      5212\n",
      "          48       0.40      0.32      0.35       837\n",
      "\n",
      "   micro avg       0.43      0.43      0.43     31293\n",
      "   macro avg       0.38      0.25      0.29     31293\n",
      "weighted avg       0.41      0.43      0.39     31293\n",
      "\n",
      "0.4319496372990765\n"
     ]
    }
   ],
   "source": [
    "#METRICS\n",
    "print(confusion_matrix(y_test,pred_knn_benchmark))\n",
    "print(classification_report(y_test,pred_knn_benchmark))\n",
    "acc_knn_benchmark=accuracy_score(y_test,pred_knn_benchmark) #result for svm\n",
    "print(acc_knn_benchmark) #print precision score \n",
    "#results match MIT benchmark experiment  after using tuned hyperparameters from the experiment"
   ]
  },
  {
   "cell_type": "code",
   "execution_count": 13,
   "metadata": {},
   "outputs": [
    {
     "data": {
      "text/plain": [
       "['KNN_MOA_FullCurated_Tuned']"
      ]
     },
     "execution_count": 13,
     "metadata": {},
     "output_type": "execute_result"
    }
   ],
   "source": [
    "\n",
    "joblib.dump(knn_benchmark,'KNN_MOA_FullCurated_Tuned')"
   ]
  }
 ],
 "metadata": {
  "kernelspec": {
   "display_name": "Python 3",
   "language": "python",
   "name": "python3"
  },
  "language_info": {
   "codemirror_mode": {
    "name": "ipython",
    "version": 3
   },
   "file_extension": ".py",
   "mimetype": "text/x-python",
   "name": "python",
   "nbconvert_exporter": "python",
   "pygments_lexer": "ipython3",
   "version": "3.7.3"
  }
 },
 "nbformat": 4,
 "nbformat_minor": 2
}
